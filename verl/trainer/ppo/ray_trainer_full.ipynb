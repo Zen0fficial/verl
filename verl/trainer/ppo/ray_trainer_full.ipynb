{
  "cells": [
    {
      "cell_type": "markdown",
      "metadata": {},
      "source": [
        "# RayPPOTrainer (full variant)\n",
        "\n",
        "This notebook mirrors `verl/trainer/ppo/ray_trainer_full.py`.\n",
        "\n",
        "- Run the next cell once to expand the code inline (uses `%load`).\n",
        "- Edit/run cells as needed for experimentation.\n",
        "\n"
      ]
    },
    {
      "cell_type": "code",
      "execution_count": null,
      "metadata": {},
      "outputs": [],
      "source": [
        "# Load the current Python source into this cell\n",
        "%load verl/trainer/ppo/ray_trainer_full.py\n"
      ]
    }
  ],
  "metadata": {
    "language_info": {
      "name": "python"
    }
  },
  "nbformat": 4,
  "nbformat_minor": 2
}
